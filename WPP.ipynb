{
  "nbformat": 4,
  "nbformat_minor": 0,
  "metadata": {
    "colab": {
      "provenance": []
    },
    "kernelspec": {
      "name": "python3",
      "display_name": "Python 3"
    },
    "language_info": {
      "name": "python"
    }
  },
  "cells": [
    {
      "cell_type": "markdown",
      "source": [
        "# Versão de tratamento para países\n",
        "O programa abaixo foi tratado para análise detalhada de cada país e posteriormente foi adicionado em um arquivo de texto em formato de dicionário"
      ],
      "metadata": {
        "id": "yNaBANAPfO9i"
      }
    },
    {
      "cell_type": "markdown",
      "source": [
        "# Resumo dos dados"
      ],
      "metadata": {
        "id": "hgwknq3ie0rM"
      }
    },
    {
      "cell_type": "markdown",
      "source": [
        "Ranking de crescimento populacional mundial nos anos de 1970 a 2023\n",
        "\n",
        "Link da página no Kaggle do dataframe: https://www.kaggle.com/datasets/sazidthe1/world-population-data\n",
        "\n",
        "*O conjunto primário de dados foi retirado do seguinte site: https://worldpopulationreview.com/"
      ],
      "metadata": {
        "id": "_RBPsfocexQw"
      }
    },
    {
      "cell_type": "markdown",
      "source": [
        "# Tratamento dos dados"
      ],
      "metadata": {
        "id": "bl36mGZ6e5Kr"
      }
    },
    {
      "cell_type": "markdown",
      "source": [
        "Importação das bibliotecas necessárias para fazer o tratamento dos dados\n",
        "\n",
        "*   Pandas: manipulação do dataframe\n",
        "*   Numpy: cálculos e operações matemáticas"
      ],
      "metadata": {
        "id": "Ci5TS7Tle8nG"
      }
    },
    {
      "cell_type": "code",
      "source": [
        "import pandas as pd\n",
        "import numpy as np"
      ],
      "metadata": {
        "id": "ld2CMyhwe_MU"
      },
      "execution_count": 1,
      "outputs": []
    },
    {
      "cell_type": "markdown",
      "source": [
        "Leitura em CSV do arquivo retirado do Kaggle"
      ],
      "metadata": {
        "id": "sUn4JHFkffuM"
      }
    },
    {
      "cell_type": "code",
      "source": [
        "df_arquivo = pd.read_csv(\"/content/world_population_data.csv\")"
      ],
      "metadata": {
        "id": "HgqyVo6Lfj_r"
      },
      "execution_count": 43,
      "outputs": []
    },
    {
      "cell_type": "code",
      "source": [
        "df_arquivo.head(len(df_arquivo))"
      ],
      "metadata": {
        "colab": {
          "base_uri": "https://localhost:8080/",
          "height": 530
        },
        "id": "FtYyxMVjfmf7",
        "outputId": "3dfc729e-b6ff-46c0-e211-94d13e4758a2"
      },
      "execution_count": 8,
      "outputs": [
        {
          "output_type": "execute_result",
          "data": {
            "text/plain": [
              "     rank cca3           country      continent  2023 population  \\\n",
              "0       1  IND             India           Asia       1428627663   \n",
              "1       2  CHN             China           Asia       1425671352   \n",
              "2       3  USA     United States  North America        339996563   \n",
              "3       4  IDN         Indonesia           Asia        277534122   \n",
              "4       5  PAK          Pakistan           Asia        240485658   \n",
              "..    ...  ...               ...            ...              ...   \n",
              "229   230  MSR        Montserrat  North America             4386   \n",
              "230   231  FLK  Falkland Islands  South America             3791   \n",
              "231   232  NIU              Niue        Oceania             1935   \n",
              "232   233  TKL           Tokelau        Oceania             1893   \n",
              "233   234  VAT      Vatican City         Europe              518   \n",
              "\n",
              "     2022 population  2020 population  2015 population  2010 population  \\\n",
              "0         1417173173       1396387127       1322866505       1240613620   \n",
              "1         1425887337       1424929781       1393715448       1348191368   \n",
              "2          338289857        335942003        324607776        311182845   \n",
              "3          275501339        271857970        259091970        244016173   \n",
              "4          235824862        227196741        210969298        194454498   \n",
              "..               ...              ...              ...              ...   \n",
              "229             4390             4500             5059             4938   \n",
              "230             3780             3747             3408             3187   \n",
              "231             1934             1942             1847             1812   \n",
              "232             1871             1827             1454             1367   \n",
              "233              510              520              564              596   \n",
              "\n",
              "     2000 population  1990 population  1980 population  1970 population  \\\n",
              "0         1059633675        870452165        696828385        557501301   \n",
              "1         1264099069       1153704252        982372466        822534450   \n",
              "2          282398554        248083732        223140018        200328340   \n",
              "3          214072421        182159874        148177096        115228394   \n",
              "4          154369924        115414069         80624057         59290872   \n",
              "..               ...              ...              ...              ...   \n",
              "229             5138            10805            11452            11402   \n",
              "230             3080             2332             2240             2274   \n",
              "231             2074             2533             3637             5185   \n",
              "232             1666             1669             1647             1714   \n",
              "233              651              700              733              752   \n",
              "\n",
              "     area (km²)  density (km²) growth rate world percentage  \n",
              "0    3287590.00            481       0.81%           17.85%  \n",
              "1    9706961.00            151      -0.02%           17.81%  \n",
              "2    9372610.00             37       0.50%            4.25%  \n",
              "3    1904569.00            148       0.74%            3.47%  \n",
              "4     881912.00            312       1.98%            3.00%  \n",
              "..          ...            ...         ...              ...  \n",
              "229      102.00             43      -0.09%            0.00%  \n",
              "230    12173.00              0       0.29%            0.00%  \n",
              "231      261.00              7       0.05%            0.00%  \n",
              "232       12.00            189       1.18%            0.00%  \n",
              "233        0.44           1177       1.57%            0.00%  \n",
              "\n",
              "[234 rows x 17 columns]"
            ],
            "text/html": [
              "\n",
              "  <div id=\"df-30ed4db2-5abb-4ab8-9ed4-0df352de86df\" class=\"colab-df-container\">\n",
              "    <div>\n",
              "<style scoped>\n",
              "    .dataframe tbody tr th:only-of-type {\n",
              "        vertical-align: middle;\n",
              "    }\n",
              "\n",
              "    .dataframe tbody tr th {\n",
              "        vertical-align: top;\n",
              "    }\n",
              "\n",
              "    .dataframe thead th {\n",
              "        text-align: right;\n",
              "    }\n",
              "</style>\n",
              "<table border=\"1\" class=\"dataframe\">\n",
              "  <thead>\n",
              "    <tr style=\"text-align: right;\">\n",
              "      <th></th>\n",
              "      <th>rank</th>\n",
              "      <th>cca3</th>\n",
              "      <th>country</th>\n",
              "      <th>continent</th>\n",
              "      <th>2023 population</th>\n",
              "      <th>2022 population</th>\n",
              "      <th>2020 population</th>\n",
              "      <th>2015 population</th>\n",
              "      <th>2010 population</th>\n",
              "      <th>2000 population</th>\n",
              "      <th>1990 population</th>\n",
              "      <th>1980 population</th>\n",
              "      <th>1970 population</th>\n",
              "      <th>area (km²)</th>\n",
              "      <th>density (km²)</th>\n",
              "      <th>growth rate</th>\n",
              "      <th>world percentage</th>\n",
              "    </tr>\n",
              "  </thead>\n",
              "  <tbody>\n",
              "    <tr>\n",
              "      <th>0</th>\n",
              "      <td>1</td>\n",
              "      <td>IND</td>\n",
              "      <td>India</td>\n",
              "      <td>Asia</td>\n",
              "      <td>1428627663</td>\n",
              "      <td>1417173173</td>\n",
              "      <td>1396387127</td>\n",
              "      <td>1322866505</td>\n",
              "      <td>1240613620</td>\n",
              "      <td>1059633675</td>\n",
              "      <td>870452165</td>\n",
              "      <td>696828385</td>\n",
              "      <td>557501301</td>\n",
              "      <td>3287590.00</td>\n",
              "      <td>481</td>\n",
              "      <td>0.81%</td>\n",
              "      <td>17.85%</td>\n",
              "    </tr>\n",
              "    <tr>\n",
              "      <th>1</th>\n",
              "      <td>2</td>\n",
              "      <td>CHN</td>\n",
              "      <td>China</td>\n",
              "      <td>Asia</td>\n",
              "      <td>1425671352</td>\n",
              "      <td>1425887337</td>\n",
              "      <td>1424929781</td>\n",
              "      <td>1393715448</td>\n",
              "      <td>1348191368</td>\n",
              "      <td>1264099069</td>\n",
              "      <td>1153704252</td>\n",
              "      <td>982372466</td>\n",
              "      <td>822534450</td>\n",
              "      <td>9706961.00</td>\n",
              "      <td>151</td>\n",
              "      <td>-0.02%</td>\n",
              "      <td>17.81%</td>\n",
              "    </tr>\n",
              "    <tr>\n",
              "      <th>2</th>\n",
              "      <td>3</td>\n",
              "      <td>USA</td>\n",
              "      <td>United States</td>\n",
              "      <td>North America</td>\n",
              "      <td>339996563</td>\n",
              "      <td>338289857</td>\n",
              "      <td>335942003</td>\n",
              "      <td>324607776</td>\n",
              "      <td>311182845</td>\n",
              "      <td>282398554</td>\n",
              "      <td>248083732</td>\n",
              "      <td>223140018</td>\n",
              "      <td>200328340</td>\n",
              "      <td>9372610.00</td>\n",
              "      <td>37</td>\n",
              "      <td>0.50%</td>\n",
              "      <td>4.25%</td>\n",
              "    </tr>\n",
              "    <tr>\n",
              "      <th>3</th>\n",
              "      <td>4</td>\n",
              "      <td>IDN</td>\n",
              "      <td>Indonesia</td>\n",
              "      <td>Asia</td>\n",
              "      <td>277534122</td>\n",
              "      <td>275501339</td>\n",
              "      <td>271857970</td>\n",
              "      <td>259091970</td>\n",
              "      <td>244016173</td>\n",
              "      <td>214072421</td>\n",
              "      <td>182159874</td>\n",
              "      <td>148177096</td>\n",
              "      <td>115228394</td>\n",
              "      <td>1904569.00</td>\n",
              "      <td>148</td>\n",
              "      <td>0.74%</td>\n",
              "      <td>3.47%</td>\n",
              "    </tr>\n",
              "    <tr>\n",
              "      <th>4</th>\n",
              "      <td>5</td>\n",
              "      <td>PAK</td>\n",
              "      <td>Pakistan</td>\n",
              "      <td>Asia</td>\n",
              "      <td>240485658</td>\n",
              "      <td>235824862</td>\n",
              "      <td>227196741</td>\n",
              "      <td>210969298</td>\n",
              "      <td>194454498</td>\n",
              "      <td>154369924</td>\n",
              "      <td>115414069</td>\n",
              "      <td>80624057</td>\n",
              "      <td>59290872</td>\n",
              "      <td>881912.00</td>\n",
              "      <td>312</td>\n",
              "      <td>1.98%</td>\n",
              "      <td>3.00%</td>\n",
              "    </tr>\n",
              "    <tr>\n",
              "      <th>...</th>\n",
              "      <td>...</td>\n",
              "      <td>...</td>\n",
              "      <td>...</td>\n",
              "      <td>...</td>\n",
              "      <td>...</td>\n",
              "      <td>...</td>\n",
              "      <td>...</td>\n",
              "      <td>...</td>\n",
              "      <td>...</td>\n",
              "      <td>...</td>\n",
              "      <td>...</td>\n",
              "      <td>...</td>\n",
              "      <td>...</td>\n",
              "      <td>...</td>\n",
              "      <td>...</td>\n",
              "      <td>...</td>\n",
              "      <td>...</td>\n",
              "    </tr>\n",
              "    <tr>\n",
              "      <th>229</th>\n",
              "      <td>230</td>\n",
              "      <td>MSR</td>\n",
              "      <td>Montserrat</td>\n",
              "      <td>North America</td>\n",
              "      <td>4386</td>\n",
              "      <td>4390</td>\n",
              "      <td>4500</td>\n",
              "      <td>5059</td>\n",
              "      <td>4938</td>\n",
              "      <td>5138</td>\n",
              "      <td>10805</td>\n",
              "      <td>11452</td>\n",
              "      <td>11402</td>\n",
              "      <td>102.00</td>\n",
              "      <td>43</td>\n",
              "      <td>-0.09%</td>\n",
              "      <td>0.00%</td>\n",
              "    </tr>\n",
              "    <tr>\n",
              "      <th>230</th>\n",
              "      <td>231</td>\n",
              "      <td>FLK</td>\n",
              "      <td>Falkland Islands</td>\n",
              "      <td>South America</td>\n",
              "      <td>3791</td>\n",
              "      <td>3780</td>\n",
              "      <td>3747</td>\n",
              "      <td>3408</td>\n",
              "      <td>3187</td>\n",
              "      <td>3080</td>\n",
              "      <td>2332</td>\n",
              "      <td>2240</td>\n",
              "      <td>2274</td>\n",
              "      <td>12173.00</td>\n",
              "      <td>0</td>\n",
              "      <td>0.29%</td>\n",
              "      <td>0.00%</td>\n",
              "    </tr>\n",
              "    <tr>\n",
              "      <th>231</th>\n",
              "      <td>232</td>\n",
              "      <td>NIU</td>\n",
              "      <td>Niue</td>\n",
              "      <td>Oceania</td>\n",
              "      <td>1935</td>\n",
              "      <td>1934</td>\n",
              "      <td>1942</td>\n",
              "      <td>1847</td>\n",
              "      <td>1812</td>\n",
              "      <td>2074</td>\n",
              "      <td>2533</td>\n",
              "      <td>3637</td>\n",
              "      <td>5185</td>\n",
              "      <td>261.00</td>\n",
              "      <td>7</td>\n",
              "      <td>0.05%</td>\n",
              "      <td>0.00%</td>\n",
              "    </tr>\n",
              "    <tr>\n",
              "      <th>232</th>\n",
              "      <td>233</td>\n",
              "      <td>TKL</td>\n",
              "      <td>Tokelau</td>\n",
              "      <td>Oceania</td>\n",
              "      <td>1893</td>\n",
              "      <td>1871</td>\n",
              "      <td>1827</td>\n",
              "      <td>1454</td>\n",
              "      <td>1367</td>\n",
              "      <td>1666</td>\n",
              "      <td>1669</td>\n",
              "      <td>1647</td>\n",
              "      <td>1714</td>\n",
              "      <td>12.00</td>\n",
              "      <td>189</td>\n",
              "      <td>1.18%</td>\n",
              "      <td>0.00%</td>\n",
              "    </tr>\n",
              "    <tr>\n",
              "      <th>233</th>\n",
              "      <td>234</td>\n",
              "      <td>VAT</td>\n",
              "      <td>Vatican City</td>\n",
              "      <td>Europe</td>\n",
              "      <td>518</td>\n",
              "      <td>510</td>\n",
              "      <td>520</td>\n",
              "      <td>564</td>\n",
              "      <td>596</td>\n",
              "      <td>651</td>\n",
              "      <td>700</td>\n",
              "      <td>733</td>\n",
              "      <td>752</td>\n",
              "      <td>0.44</td>\n",
              "      <td>1177</td>\n",
              "      <td>1.57%</td>\n",
              "      <td>0.00%</td>\n",
              "    </tr>\n",
              "  </tbody>\n",
              "</table>\n",
              "<p>234 rows × 17 columns</p>\n",
              "</div>\n",
              "    <div class=\"colab-df-buttons\">\n",
              "\n",
              "  <div class=\"colab-df-container\">\n",
              "    <button class=\"colab-df-convert\" onclick=\"convertToInteractive('df-30ed4db2-5abb-4ab8-9ed4-0df352de86df')\"\n",
              "            title=\"Convert this dataframe to an interactive table.\"\n",
              "            style=\"display:none;\">\n",
              "\n",
              "  <svg xmlns=\"http://www.w3.org/2000/svg\" height=\"24px\" viewBox=\"0 -960 960 960\">\n",
              "    <path d=\"M120-120v-720h720v720H120Zm60-500h600v-160H180v160Zm220 220h160v-160H400v160Zm0 220h160v-160H400v160ZM180-400h160v-160H180v160Zm440 0h160v-160H620v160ZM180-180h160v-160H180v160Zm440 0h160v-160H620v160Z\"/>\n",
              "  </svg>\n",
              "    </button>\n",
              "\n",
              "  <style>\n",
              "    .colab-df-container {\n",
              "      display:flex;\n",
              "      gap: 12px;\n",
              "    }\n",
              "\n",
              "    .colab-df-convert {\n",
              "      background-color: #E8F0FE;\n",
              "      border: none;\n",
              "      border-radius: 50%;\n",
              "      cursor: pointer;\n",
              "      display: none;\n",
              "      fill: #1967D2;\n",
              "      height: 32px;\n",
              "      padding: 0 0 0 0;\n",
              "      width: 32px;\n",
              "    }\n",
              "\n",
              "    .colab-df-convert:hover {\n",
              "      background-color: #E2EBFA;\n",
              "      box-shadow: 0px 1px 2px rgba(60, 64, 67, 0.3), 0px 1px 3px 1px rgba(60, 64, 67, 0.15);\n",
              "      fill: #174EA6;\n",
              "    }\n",
              "\n",
              "    .colab-df-buttons div {\n",
              "      margin-bottom: 4px;\n",
              "    }\n",
              "\n",
              "    [theme=dark] .colab-df-convert {\n",
              "      background-color: #3B4455;\n",
              "      fill: #D2E3FC;\n",
              "    }\n",
              "\n",
              "    [theme=dark] .colab-df-convert:hover {\n",
              "      background-color: #434B5C;\n",
              "      box-shadow: 0px 1px 3px 1px rgba(0, 0, 0, 0.15);\n",
              "      filter: drop-shadow(0px 1px 2px rgba(0, 0, 0, 0.3));\n",
              "      fill: #FFFFFF;\n",
              "    }\n",
              "  </style>\n",
              "\n",
              "    <script>\n",
              "      const buttonEl =\n",
              "        document.querySelector('#df-30ed4db2-5abb-4ab8-9ed4-0df352de86df button.colab-df-convert');\n",
              "      buttonEl.style.display =\n",
              "        google.colab.kernel.accessAllowed ? 'block' : 'none';\n",
              "\n",
              "      async function convertToInteractive(key) {\n",
              "        const element = document.querySelector('#df-30ed4db2-5abb-4ab8-9ed4-0df352de86df');\n",
              "        const dataTable =\n",
              "          await google.colab.kernel.invokeFunction('convertToInteractive',\n",
              "                                                    [key], {});\n",
              "        if (!dataTable) return;\n",
              "\n",
              "        const docLinkHtml = 'Like what you see? Visit the ' +\n",
              "          '<a target=\"_blank\" href=https://colab.research.google.com/notebooks/data_table.ipynb>data table notebook</a>'\n",
              "          + ' to learn more about interactive tables.';\n",
              "        element.innerHTML = '';\n",
              "        dataTable['output_type'] = 'display_data';\n",
              "        await google.colab.output.renderOutput(dataTable, element);\n",
              "        const docLink = document.createElement('div');\n",
              "        docLink.innerHTML = docLinkHtml;\n",
              "        element.appendChild(docLink);\n",
              "      }\n",
              "    </script>\n",
              "  </div>\n",
              "\n",
              "\n",
              "<div id=\"df-57b7a48e-a3ca-41c4-adeb-4868dae1c526\">\n",
              "  <button class=\"colab-df-quickchart\" onclick=\"quickchart('df-57b7a48e-a3ca-41c4-adeb-4868dae1c526')\"\n",
              "            title=\"Suggest charts\"\n",
              "            style=\"display:none;\">\n",
              "\n",
              "<svg xmlns=\"http://www.w3.org/2000/svg\" height=\"24px\"viewBox=\"0 0 24 24\"\n",
              "     width=\"24px\">\n",
              "    <g>\n",
              "        <path d=\"M19 3H5c-1.1 0-2 .9-2 2v14c0 1.1.9 2 2 2h14c1.1 0 2-.9 2-2V5c0-1.1-.9-2-2-2zM9 17H7v-7h2v7zm4 0h-2V7h2v10zm4 0h-2v-4h2v4z\"/>\n",
              "    </g>\n",
              "</svg>\n",
              "  </button>\n",
              "\n",
              "<style>\n",
              "  .colab-df-quickchart {\n",
              "      --bg-color: #E8F0FE;\n",
              "      --fill-color: #1967D2;\n",
              "      --hover-bg-color: #E2EBFA;\n",
              "      --hover-fill-color: #174EA6;\n",
              "      --disabled-fill-color: #AAA;\n",
              "      --disabled-bg-color: #DDD;\n",
              "  }\n",
              "\n",
              "  [theme=dark] .colab-df-quickchart {\n",
              "      --bg-color: #3B4455;\n",
              "      --fill-color: #D2E3FC;\n",
              "      --hover-bg-color: #434B5C;\n",
              "      --hover-fill-color: #FFFFFF;\n",
              "      --disabled-bg-color: #3B4455;\n",
              "      --disabled-fill-color: #666;\n",
              "  }\n",
              "\n",
              "  .colab-df-quickchart {\n",
              "    background-color: var(--bg-color);\n",
              "    border: none;\n",
              "    border-radius: 50%;\n",
              "    cursor: pointer;\n",
              "    display: none;\n",
              "    fill: var(--fill-color);\n",
              "    height: 32px;\n",
              "    padding: 0;\n",
              "    width: 32px;\n",
              "  }\n",
              "\n",
              "  .colab-df-quickchart:hover {\n",
              "    background-color: var(--hover-bg-color);\n",
              "    box-shadow: 0 1px 2px rgba(60, 64, 67, 0.3), 0 1px 3px 1px rgba(60, 64, 67, 0.15);\n",
              "    fill: var(--button-hover-fill-color);\n",
              "  }\n",
              "\n",
              "  .colab-df-quickchart-complete:disabled,\n",
              "  .colab-df-quickchart-complete:disabled:hover {\n",
              "    background-color: var(--disabled-bg-color);\n",
              "    fill: var(--disabled-fill-color);\n",
              "    box-shadow: none;\n",
              "  }\n",
              "\n",
              "  .colab-df-spinner {\n",
              "    border: 2px solid var(--fill-color);\n",
              "    border-color: transparent;\n",
              "    border-bottom-color: var(--fill-color);\n",
              "    animation:\n",
              "      spin 1s steps(1) infinite;\n",
              "  }\n",
              "\n",
              "  @keyframes spin {\n",
              "    0% {\n",
              "      border-color: transparent;\n",
              "      border-bottom-color: var(--fill-color);\n",
              "      border-left-color: var(--fill-color);\n",
              "    }\n",
              "    20% {\n",
              "      border-color: transparent;\n",
              "      border-left-color: var(--fill-color);\n",
              "      border-top-color: var(--fill-color);\n",
              "    }\n",
              "    30% {\n",
              "      border-color: transparent;\n",
              "      border-left-color: var(--fill-color);\n",
              "      border-top-color: var(--fill-color);\n",
              "      border-right-color: var(--fill-color);\n",
              "    }\n",
              "    40% {\n",
              "      border-color: transparent;\n",
              "      border-right-color: var(--fill-color);\n",
              "      border-top-color: var(--fill-color);\n",
              "    }\n",
              "    60% {\n",
              "      border-color: transparent;\n",
              "      border-right-color: var(--fill-color);\n",
              "    }\n",
              "    80% {\n",
              "      border-color: transparent;\n",
              "      border-right-color: var(--fill-color);\n",
              "      border-bottom-color: var(--fill-color);\n",
              "    }\n",
              "    90% {\n",
              "      border-color: transparent;\n",
              "      border-bottom-color: var(--fill-color);\n",
              "    }\n",
              "  }\n",
              "</style>\n",
              "\n",
              "  <script>\n",
              "    async function quickchart(key) {\n",
              "      const quickchartButtonEl =\n",
              "        document.querySelector('#' + key + ' button');\n",
              "      quickchartButtonEl.disabled = true;  // To prevent multiple clicks.\n",
              "      quickchartButtonEl.classList.add('colab-df-spinner');\n",
              "      try {\n",
              "        const charts = await google.colab.kernel.invokeFunction(\n",
              "            'suggestCharts', [key], {});\n",
              "      } catch (error) {\n",
              "        console.error('Error during call to suggestCharts:', error);\n",
              "      }\n",
              "      quickchartButtonEl.classList.remove('colab-df-spinner');\n",
              "      quickchartButtonEl.classList.add('colab-df-quickchart-complete');\n",
              "    }\n",
              "    (() => {\n",
              "      let quickchartButtonEl =\n",
              "        document.querySelector('#df-57b7a48e-a3ca-41c4-adeb-4868dae1c526 button');\n",
              "      quickchartButtonEl.style.display =\n",
              "        google.colab.kernel.accessAllowed ? 'block' : 'none';\n",
              "    })();\n",
              "  </script>\n",
              "</div>\n",
              "    </div>\n",
              "  </div>\n"
            ]
          },
          "metadata": {},
          "execution_count": 8
        }
      ]
    },
    {
      "cell_type": "code",
      "source": [
        "list(df_arquivo.columns)"
      ],
      "metadata": {
        "colab": {
          "base_uri": "https://localhost:8080/"
        },
        "id": "bWUPxoQgfqMG",
        "outputId": "3c686e51-e13c-44b8-9f16-8bd7f1c37fe4"
      },
      "execution_count": 9,
      "outputs": [
        {
          "output_type": "execute_result",
          "data": {
            "text/plain": [
              "['rank',\n",
              " 'cca3',\n",
              " 'country',\n",
              " 'continent',\n",
              " '2023 population',\n",
              " '2022 population',\n",
              " '2020 population',\n",
              " '2015 population',\n",
              " '2010 population',\n",
              " '2000 population',\n",
              " '1990 population',\n",
              " '1980 population',\n",
              " '1970 population',\n",
              " 'area (km²)',\n",
              " 'density (km²)',\n",
              " 'growth rate',\n",
              " 'world percentage']"
            ]
          },
          "metadata": {},
          "execution_count": 9
        }
      ]
    },
    {
      "cell_type": "markdown",
      "source": [
        "Verificação da quantidade de variação no conteúdo das colunas (a tabela possui 234 linhas)"
      ],
      "metadata": {
        "id": "jOa1IzlVfthx"
      }
    },
    {
      "cell_type": "code",
      "source": [
        "for col in df_arquivo.columns:\n",
        "  print(f\"{col}: {df_arquivo[col].nunique()}\")"
      ],
      "metadata": {
        "colab": {
          "base_uri": "https://localhost:8080/"
        },
        "id": "x_tEpDiefuYz",
        "outputId": "06e0b49c-f7dc-4e16-8e4b-d8a322a41523"
      },
      "execution_count": 10,
      "outputs": [
        {
          "output_type": "stream",
          "name": "stdout",
          "text": [
            "rank: 234\n",
            "cca3: 234\n",
            "country: 234\n",
            "continent: 6\n",
            "2023 population: 234\n",
            "2022 population: 234\n",
            "2020 population: 234\n",
            "2015 population: 234\n",
            "2010 population: 234\n",
            "2000 population: 234\n",
            "1990 population: 234\n",
            "1980 population: 234\n",
            "1970 population: 234\n",
            "area (km²): 232\n",
            "density (km²): 167\n",
            "growth rate: 176\n",
            "world percentage: 73\n"
          ]
        }
      ]
    },
    {
      "cell_type": "code",
      "source": [
        "df_arquivo.isnull().sum()"
      ],
      "metadata": {
        "colab": {
          "base_uri": "https://localhost:8080/"
        },
        "id": "uOHKEoVLfxvn",
        "outputId": "5430a973-1c94-440c-e9fc-c2ab3a5299fc"
      },
      "execution_count": 11,
      "outputs": [
        {
          "output_type": "execute_result",
          "data": {
            "text/plain": [
              "rank                0\n",
              "cca3                0\n",
              "country             0\n",
              "continent           0\n",
              "2023 population     0\n",
              "2022 population     0\n",
              "2020 population     0\n",
              "2015 population     0\n",
              "2010 population     0\n",
              "2000 population     0\n",
              "1990 population     0\n",
              "1980 population     0\n",
              "1970 population     0\n",
              "area (km²)          0\n",
              "density (km²)       0\n",
              "growth rate         0\n",
              "world percentage    0\n",
              "dtype: int64"
            ]
          },
          "metadata": {},
          "execution_count": 11
        }
      ]
    },
    {
      "cell_type": "markdown",
      "source": [
        "População global no ano de 2023"
      ],
      "metadata": {
        "id": "Wsz6hGMKgFgr"
      }
    },
    {
      "cell_type": "code",
      "source": [
        "global_pop = df_arquivo[\"2023 population\"].sum()\n",
        "print( f'{global_pop:,}')"
      ],
      "metadata": {
        "colab": {
          "base_uri": "https://localhost:8080/"
        },
        "id": "ghdtn9C1gGAF",
        "outputId": "71316f9b-4d86-46d9-edf1-1e8a90ce7ecf"
      },
      "execution_count": 12,
      "outputs": [
        {
          "output_type": "stream",
          "name": "stdout",
          "text": [
            "8,043,615,390\n"
          ]
        }
      ]
    },
    {
      "cell_type": "code",
      "source": [
        "df_arquivo.columns = [\"ranking\", \"sigla\", \"país\", \"continente\", \"2023\", \"2022\", \"2020\", \"2015\", \"2010\", \"2000\", \"1990\", \"1980\", \"1970\", \"área (km²)\", \"densidade (km²)\", \"taxa de crescimento\", \"porcentagem mundial\"]\n",
        "df_arquivo.columns"
      ],
      "metadata": {
        "colab": {
          "base_uri": "https://localhost:8080/"
        },
        "id": "x6cXbNS5hTSn",
        "outputId": "d311644b-4523-448c-bb4b-152bb9bf7fc4"
      },
      "execution_count": 44,
      "outputs": [
        {
          "output_type": "execute_result",
          "data": {
            "text/plain": [
              "Index(['ranking', 'sigla', 'país', 'continente', '2023', '2022', '2020',\n",
              "       '2015', '2010', '2000', '1990', '1980', '1970', 'área (km²)',\n",
              "       'densidade (km²)', 'taxa de crescimento', 'porcentagem mundial'],\n",
              "      dtype='object')"
            ]
          },
          "metadata": {},
          "execution_count": 44
        }
      ]
    },
    {
      "cell_type": "markdown",
      "source": [
        "Criação da coluna \"população (1970 - 2023)\" que engloba as colunas de população por ano"
      ],
      "metadata": {
        "id": "YUVGxUWZhIzB"
      }
    },
    {
      "cell_type": "code",
      "source": [
        "df_arquivo[\"população (1970 - 2023)\"] = df_arquivo.apply(lambda row: [row[\"2023\"], row[\"2022\"], row[\"2020\"], row[\"2015\"], row[\"2010\"], row[\"2000\"], row[\"1990\"], row[\"1980\"], row[\"1970\"]], axis=1)\n",
        "# O parâmetro \"axis\" indica se a função será aplicada a linhas ou a colunas: 0 - linhas e 1 - colunas"
      ],
      "metadata": {
        "id": "mtAhfCiQhJqW"
      },
      "execution_count": 45,
      "outputs": []
    },
    {
      "cell_type": "markdown",
      "source": [
        "Exclusão das colunas de população por ano para limpar a tabela"
      ],
      "metadata": {
        "id": "Z1HutIMPhgDj"
      }
    },
    {
      "cell_type": "code",
      "source": [
        "df_arquivo = df_arquivo.drop([\"2022\", \"2020\", \"2015\", \"2010\", \"2000\", \"1990\", \"1980\", \"1970\"], axis=1)"
      ],
      "metadata": {
        "id": "w9Qw3OQ0hgnj"
      },
      "execution_count": 46,
      "outputs": []
    },
    {
      "cell_type": "markdown",
      "source": [
        "Verificação de tipos de dados das colunas da tabela"
      ],
      "metadata": {
        "id": "YDIiOVlsilio"
      }
    },
    {
      "cell_type": "code",
      "source": [
        "df_arquivo.dtypes"
      ],
      "metadata": {
        "colab": {
          "base_uri": "https://localhost:8080/"
        },
        "id": "8Nd_muhsifzH",
        "outputId": "243c22e0-98fd-459e-fcd5-1f73e02c7cac"
      },
      "execution_count": 18,
      "outputs": [
        {
          "output_type": "execute_result",
          "data": {
            "text/plain": [
              "ranking                      int64\n",
              "sigla                       object\n",
              "país                        object\n",
              "continente                  object\n",
              "área (km²)                 float64\n",
              "densidade (km²)              int64\n",
              "taxa de crescimento         object\n",
              "porcentagem mundial         object\n",
              "população (1970 - 2023)     object\n",
              "dtype: object"
            ]
          },
          "metadata": {},
          "execution_count": 18
        }
      ]
    },
    {
      "cell_type": "markdown",
      "source": [
        "Criação da coluna \"densidade demográfica (2023)\" para analisar a taxa de elevação por país"
      ],
      "metadata": {
        "id": "ynOhCXapixbP"
      }
    },
    {
      "cell_type": "code",
      "source": [
        "df_arquivo[\"densidade demográfica (2023)\"] = round(df_arquivo[\"2023\"] / df_arquivo[\"área (km²)\"], 2)"
      ],
      "metadata": {
        "id": "gltBzjIPkKZA"
      },
      "execution_count": 47,
      "outputs": []
    },
    {
      "cell_type": "code",
      "source": [
        "df_arquivo = df_arquivo.drop([\"2023\"], axis=1)"
      ],
      "metadata": {
        "id": "7ChNm04VnJfI"
      },
      "execution_count": 53,
      "outputs": []
    },
    {
      "cell_type": "markdown",
      "source": [
        "Inversão da ordem da coluna \"população (1970 - 2023) para ordem crescente"
      ],
      "metadata": {
        "id": "eWz9JjUbqWLJ"
      }
    },
    {
      "cell_type": "code",
      "source": [
        "df_arquivo[\"população (1970 - 2023)\"] = df_arquivo[\"população (1970 - 2023)\"].apply(lambda x: x[::-1])"
      ],
      "metadata": {
        "id": "sXs1-UhXoJrO"
      },
      "execution_count": 49,
      "outputs": []
    },
    {
      "cell_type": "code",
      "source": [
        "df_arquivo.head()"
      ],
      "metadata": {
        "colab": {
          "base_uri": "https://localhost:8080/",
          "height": 310
        },
        "id": "0LkEYupaqvge",
        "outputId": "2ff42365-a5ef-4a55-83d8-6eb5632bae8b"
      },
      "execution_count": 54,
      "outputs": [
        {
          "output_type": "execute_result",
          "data": {
            "text/plain": [
              "   ranking sigla           país     continente  área (km²)  densidade (km²)  \\\n",
              "0        1   IND          India           Asia   3287590.0              481   \n",
              "1        2   CHN          China           Asia   9706961.0              151   \n",
              "2        3   USA  United States  North America   9372610.0               37   \n",
              "3        4   IDN      Indonesia           Asia   1904569.0              148   \n",
              "4        5   PAK       Pakistan           Asia    881912.0              312   \n",
              "\n",
              "  taxa de crescimento porcentagem mundial  \\\n",
              "0               0.81%              17.85%   \n",
              "1              -0.02%              17.81%   \n",
              "2               0.50%               4.25%   \n",
              "3               0.74%               3.47%   \n",
              "4               1.98%               3.00%   \n",
              "\n",
              "                             população (1970 - 2023)  \\\n",
              "0  [557501301, 696828385, 870452165, 1059633675, ...   \n",
              "1  [822534450, 982372466, 1153704252, 1264099069,...   \n",
              "2  [200328340, 223140018, 248083732, 282398554, 3...   \n",
              "3  [115228394, 148177096, 182159874, 214072421, 2...   \n",
              "4  [59290872, 80624057, 115414069, 154369924, 194...   \n",
              "\n",
              "   densidade demográfica (2023)  \n",
              "0                        434.55  \n",
              "1                        146.87  \n",
              "2                         36.28  \n",
              "3                        145.72  \n",
              "4                        272.69  "
            ],
            "text/html": [
              "\n",
              "  <div id=\"df-a11c5115-34c3-4b13-9b0c-2d2255980d5d\" class=\"colab-df-container\">\n",
              "    <div>\n",
              "<style scoped>\n",
              "    .dataframe tbody tr th:only-of-type {\n",
              "        vertical-align: middle;\n",
              "    }\n",
              "\n",
              "    .dataframe tbody tr th {\n",
              "        vertical-align: top;\n",
              "    }\n",
              "\n",
              "    .dataframe thead th {\n",
              "        text-align: right;\n",
              "    }\n",
              "</style>\n",
              "<table border=\"1\" class=\"dataframe\">\n",
              "  <thead>\n",
              "    <tr style=\"text-align: right;\">\n",
              "      <th></th>\n",
              "      <th>ranking</th>\n",
              "      <th>sigla</th>\n",
              "      <th>país</th>\n",
              "      <th>continente</th>\n",
              "      <th>área (km²)</th>\n",
              "      <th>densidade (km²)</th>\n",
              "      <th>taxa de crescimento</th>\n",
              "      <th>porcentagem mundial</th>\n",
              "      <th>população (1970 - 2023)</th>\n",
              "      <th>densidade demográfica (2023)</th>\n",
              "    </tr>\n",
              "  </thead>\n",
              "  <tbody>\n",
              "    <tr>\n",
              "      <th>0</th>\n",
              "      <td>1</td>\n",
              "      <td>IND</td>\n",
              "      <td>India</td>\n",
              "      <td>Asia</td>\n",
              "      <td>3287590.0</td>\n",
              "      <td>481</td>\n",
              "      <td>0.81%</td>\n",
              "      <td>17.85%</td>\n",
              "      <td>[557501301, 696828385, 870452165, 1059633675, ...</td>\n",
              "      <td>434.55</td>\n",
              "    </tr>\n",
              "    <tr>\n",
              "      <th>1</th>\n",
              "      <td>2</td>\n",
              "      <td>CHN</td>\n",
              "      <td>China</td>\n",
              "      <td>Asia</td>\n",
              "      <td>9706961.0</td>\n",
              "      <td>151</td>\n",
              "      <td>-0.02%</td>\n",
              "      <td>17.81%</td>\n",
              "      <td>[822534450, 982372466, 1153704252, 1264099069,...</td>\n",
              "      <td>146.87</td>\n",
              "    </tr>\n",
              "    <tr>\n",
              "      <th>2</th>\n",
              "      <td>3</td>\n",
              "      <td>USA</td>\n",
              "      <td>United States</td>\n",
              "      <td>North America</td>\n",
              "      <td>9372610.0</td>\n",
              "      <td>37</td>\n",
              "      <td>0.50%</td>\n",
              "      <td>4.25%</td>\n",
              "      <td>[200328340, 223140018, 248083732, 282398554, 3...</td>\n",
              "      <td>36.28</td>\n",
              "    </tr>\n",
              "    <tr>\n",
              "      <th>3</th>\n",
              "      <td>4</td>\n",
              "      <td>IDN</td>\n",
              "      <td>Indonesia</td>\n",
              "      <td>Asia</td>\n",
              "      <td>1904569.0</td>\n",
              "      <td>148</td>\n",
              "      <td>0.74%</td>\n",
              "      <td>3.47%</td>\n",
              "      <td>[115228394, 148177096, 182159874, 214072421, 2...</td>\n",
              "      <td>145.72</td>\n",
              "    </tr>\n",
              "    <tr>\n",
              "      <th>4</th>\n",
              "      <td>5</td>\n",
              "      <td>PAK</td>\n",
              "      <td>Pakistan</td>\n",
              "      <td>Asia</td>\n",
              "      <td>881912.0</td>\n",
              "      <td>312</td>\n",
              "      <td>1.98%</td>\n",
              "      <td>3.00%</td>\n",
              "      <td>[59290872, 80624057, 115414069, 154369924, 194...</td>\n",
              "      <td>272.69</td>\n",
              "    </tr>\n",
              "  </tbody>\n",
              "</table>\n",
              "</div>\n",
              "    <div class=\"colab-df-buttons\">\n",
              "\n",
              "  <div class=\"colab-df-container\">\n",
              "    <button class=\"colab-df-convert\" onclick=\"convertToInteractive('df-a11c5115-34c3-4b13-9b0c-2d2255980d5d')\"\n",
              "            title=\"Convert this dataframe to an interactive table.\"\n",
              "            style=\"display:none;\">\n",
              "\n",
              "  <svg xmlns=\"http://www.w3.org/2000/svg\" height=\"24px\" viewBox=\"0 -960 960 960\">\n",
              "    <path d=\"M120-120v-720h720v720H120Zm60-500h600v-160H180v160Zm220 220h160v-160H400v160Zm0 220h160v-160H400v160ZM180-400h160v-160H180v160Zm440 0h160v-160H620v160ZM180-180h160v-160H180v160Zm440 0h160v-160H620v160Z\"/>\n",
              "  </svg>\n",
              "    </button>\n",
              "\n",
              "  <style>\n",
              "    .colab-df-container {\n",
              "      display:flex;\n",
              "      gap: 12px;\n",
              "    }\n",
              "\n",
              "    .colab-df-convert {\n",
              "      background-color: #E8F0FE;\n",
              "      border: none;\n",
              "      border-radius: 50%;\n",
              "      cursor: pointer;\n",
              "      display: none;\n",
              "      fill: #1967D2;\n",
              "      height: 32px;\n",
              "      padding: 0 0 0 0;\n",
              "      width: 32px;\n",
              "    }\n",
              "\n",
              "    .colab-df-convert:hover {\n",
              "      background-color: #E2EBFA;\n",
              "      box-shadow: 0px 1px 2px rgba(60, 64, 67, 0.3), 0px 1px 3px 1px rgba(60, 64, 67, 0.15);\n",
              "      fill: #174EA6;\n",
              "    }\n",
              "\n",
              "    .colab-df-buttons div {\n",
              "      margin-bottom: 4px;\n",
              "    }\n",
              "\n",
              "    [theme=dark] .colab-df-convert {\n",
              "      background-color: #3B4455;\n",
              "      fill: #D2E3FC;\n",
              "    }\n",
              "\n",
              "    [theme=dark] .colab-df-convert:hover {\n",
              "      background-color: #434B5C;\n",
              "      box-shadow: 0px 1px 3px 1px rgba(0, 0, 0, 0.15);\n",
              "      filter: drop-shadow(0px 1px 2px rgba(0, 0, 0, 0.3));\n",
              "      fill: #FFFFFF;\n",
              "    }\n",
              "  </style>\n",
              "\n",
              "    <script>\n",
              "      const buttonEl =\n",
              "        document.querySelector('#df-a11c5115-34c3-4b13-9b0c-2d2255980d5d button.colab-df-convert');\n",
              "      buttonEl.style.display =\n",
              "        google.colab.kernel.accessAllowed ? 'block' : 'none';\n",
              "\n",
              "      async function convertToInteractive(key) {\n",
              "        const element = document.querySelector('#df-a11c5115-34c3-4b13-9b0c-2d2255980d5d');\n",
              "        const dataTable =\n",
              "          await google.colab.kernel.invokeFunction('convertToInteractive',\n",
              "                                                    [key], {});\n",
              "        if (!dataTable) return;\n",
              "\n",
              "        const docLinkHtml = 'Like what you see? Visit the ' +\n",
              "          '<a target=\"_blank\" href=https://colab.research.google.com/notebooks/data_table.ipynb>data table notebook</a>'\n",
              "          + ' to learn more about interactive tables.';\n",
              "        element.innerHTML = '';\n",
              "        dataTable['output_type'] = 'display_data';\n",
              "        await google.colab.output.renderOutput(dataTable, element);\n",
              "        const docLink = document.createElement('div');\n",
              "        docLink.innerHTML = docLinkHtml;\n",
              "        element.appendChild(docLink);\n",
              "      }\n",
              "    </script>\n",
              "  </div>\n",
              "\n",
              "\n",
              "<div id=\"df-6fcee03c-da6f-47e5-8059-e2f28ab9babf\">\n",
              "  <button class=\"colab-df-quickchart\" onclick=\"quickchart('df-6fcee03c-da6f-47e5-8059-e2f28ab9babf')\"\n",
              "            title=\"Suggest charts\"\n",
              "            style=\"display:none;\">\n",
              "\n",
              "<svg xmlns=\"http://www.w3.org/2000/svg\" height=\"24px\"viewBox=\"0 0 24 24\"\n",
              "     width=\"24px\">\n",
              "    <g>\n",
              "        <path d=\"M19 3H5c-1.1 0-2 .9-2 2v14c0 1.1.9 2 2 2h14c1.1 0 2-.9 2-2V5c0-1.1-.9-2-2-2zM9 17H7v-7h2v7zm4 0h-2V7h2v10zm4 0h-2v-4h2v4z\"/>\n",
              "    </g>\n",
              "</svg>\n",
              "  </button>\n",
              "\n",
              "<style>\n",
              "  .colab-df-quickchart {\n",
              "      --bg-color: #E8F0FE;\n",
              "      --fill-color: #1967D2;\n",
              "      --hover-bg-color: #E2EBFA;\n",
              "      --hover-fill-color: #174EA6;\n",
              "      --disabled-fill-color: #AAA;\n",
              "      --disabled-bg-color: #DDD;\n",
              "  }\n",
              "\n",
              "  [theme=dark] .colab-df-quickchart {\n",
              "      --bg-color: #3B4455;\n",
              "      --fill-color: #D2E3FC;\n",
              "      --hover-bg-color: #434B5C;\n",
              "      --hover-fill-color: #FFFFFF;\n",
              "      --disabled-bg-color: #3B4455;\n",
              "      --disabled-fill-color: #666;\n",
              "  }\n",
              "\n",
              "  .colab-df-quickchart {\n",
              "    background-color: var(--bg-color);\n",
              "    border: none;\n",
              "    border-radius: 50%;\n",
              "    cursor: pointer;\n",
              "    display: none;\n",
              "    fill: var(--fill-color);\n",
              "    height: 32px;\n",
              "    padding: 0;\n",
              "    width: 32px;\n",
              "  }\n",
              "\n",
              "  .colab-df-quickchart:hover {\n",
              "    background-color: var(--hover-bg-color);\n",
              "    box-shadow: 0 1px 2px rgba(60, 64, 67, 0.3), 0 1px 3px 1px rgba(60, 64, 67, 0.15);\n",
              "    fill: var(--button-hover-fill-color);\n",
              "  }\n",
              "\n",
              "  .colab-df-quickchart-complete:disabled,\n",
              "  .colab-df-quickchart-complete:disabled:hover {\n",
              "    background-color: var(--disabled-bg-color);\n",
              "    fill: var(--disabled-fill-color);\n",
              "    box-shadow: none;\n",
              "  }\n",
              "\n",
              "  .colab-df-spinner {\n",
              "    border: 2px solid var(--fill-color);\n",
              "    border-color: transparent;\n",
              "    border-bottom-color: var(--fill-color);\n",
              "    animation:\n",
              "      spin 1s steps(1) infinite;\n",
              "  }\n",
              "\n",
              "  @keyframes spin {\n",
              "    0% {\n",
              "      border-color: transparent;\n",
              "      border-bottom-color: var(--fill-color);\n",
              "      border-left-color: var(--fill-color);\n",
              "    }\n",
              "    20% {\n",
              "      border-color: transparent;\n",
              "      border-left-color: var(--fill-color);\n",
              "      border-top-color: var(--fill-color);\n",
              "    }\n",
              "    30% {\n",
              "      border-color: transparent;\n",
              "      border-left-color: var(--fill-color);\n",
              "      border-top-color: var(--fill-color);\n",
              "      border-right-color: var(--fill-color);\n",
              "    }\n",
              "    40% {\n",
              "      border-color: transparent;\n",
              "      border-right-color: var(--fill-color);\n",
              "      border-top-color: var(--fill-color);\n",
              "    }\n",
              "    60% {\n",
              "      border-color: transparent;\n",
              "      border-right-color: var(--fill-color);\n",
              "    }\n",
              "    80% {\n",
              "      border-color: transparent;\n",
              "      border-right-color: var(--fill-color);\n",
              "      border-bottom-color: var(--fill-color);\n",
              "    }\n",
              "    90% {\n",
              "      border-color: transparent;\n",
              "      border-bottom-color: var(--fill-color);\n",
              "    }\n",
              "  }\n",
              "</style>\n",
              "\n",
              "  <script>\n",
              "    async function quickchart(key) {\n",
              "      const quickchartButtonEl =\n",
              "        document.querySelector('#' + key + ' button');\n",
              "      quickchartButtonEl.disabled = true;  // To prevent multiple clicks.\n",
              "      quickchartButtonEl.classList.add('colab-df-spinner');\n",
              "      try {\n",
              "        const charts = await google.colab.kernel.invokeFunction(\n",
              "            'suggestCharts', [key], {});\n",
              "      } catch (error) {\n",
              "        console.error('Error during call to suggestCharts:', error);\n",
              "      }\n",
              "      quickchartButtonEl.classList.remove('colab-df-spinner');\n",
              "      quickchartButtonEl.classList.add('colab-df-quickchart-complete');\n",
              "    }\n",
              "    (() => {\n",
              "      let quickchartButtonEl =\n",
              "        document.querySelector('#df-6fcee03c-da6f-47e5-8059-e2f28ab9babf button');\n",
              "      quickchartButtonEl.style.display =\n",
              "        google.colab.kernel.accessAllowed ? 'block' : 'none';\n",
              "    })();\n",
              "  </script>\n",
              "</div>\n",
              "    </div>\n",
              "  </div>\n"
            ]
          },
          "metadata": {},
          "execution_count": 54
        }
      ]
    },
    {
      "cell_type": "code",
      "source": [
        "df_arquivo.columns = [\"rank\", \"cca3\", \"country\", \"continent\", \"area (km2)\", \"density (km2)\", \"growth rate\", \"world percentage\", \"population (1970 - 2023)\", \"demographic density (2023)\"]"
      ],
      "metadata": {
        "id": "A0UnChxQsR8e"
      },
      "execution_count": 58,
      "outputs": []
    },
    {
      "cell_type": "markdown",
      "source": [
        "Conversão do tipo de dado da tabela para string por ser o tipo de dado que a biblioteca de geração de arquivos suporta"
      ],
      "metadata": {
        "id": "STTu0ybYsVJp"
      }
    },
    {
      "cell_type": "code",
      "source": [
        "df_records = df_arquivo.to_dict(\"records\")\n",
        "string = ', '.join([str(record) for record in df_records])"
      ],
      "metadata": {
        "id": "HDFp9D91sZ1n"
      },
      "execution_count": 59,
      "outputs": []
    },
    {
      "cell_type": "code",
      "source": [
        "from pathlib import Path\n",
        "import json\n",
        "\n",
        "df_json = json.dumps(df_records, indent=2)\n",
        "\n",
        "arquivo = Path(\"world_population.txt\")\n",
        "\n",
        "arquivo.write_text(df_json)"
      ],
      "metadata": {
        "colab": {
          "base_uri": "https://localhost:8080/"
        },
        "id": "TmTiA-Jusbnj",
        "outputId": "8ff37f1d-7fde-4df8-dfa5-b07b8ddf380f"
      },
      "execution_count": 60,
      "outputs": [
        {
          "output_type": "execute_result",
          "data": {
            "text/plain": [
              "100284"
            ]
          },
          "metadata": {},
          "execution_count": 60
        }
      ]
    }
  ]
}